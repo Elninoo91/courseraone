{
 "cells": [
  {
   "cell_type": "markdown",
   "id": "9470a964-3cd1-4281-a80f-46098b55bc3f",
   "metadata": {
    "tags": []
   },
   "source": [
    "# My Jupyter Notebook on IBM Watson Studio"
   ]
  },
  {
   "cell_type": "markdown",
   "id": "9af7401f-3561-4bce-9bbf-f39b08a89275",
   "metadata": {},
   "source": [
    "__Masrour oussama__\n",
    "\n",
    "Civil engineer"
   ]
  },
  {
   "cell_type": "markdown",
   "id": "5efcd410-90a5-498c-83c1-87b1d42792fb",
   "metadata": {},
   "source": [
    "_I am interested in data science because i feel that i can solve many problems that i find in my field_"
   ]
  },
  {
   "cell_type": "markdown",
   "id": "f51c4f2e-d65e-4dfc-a8ce-32603f77132d",
   "metadata": {
    "tags": []
   },
   "source": [
    "# This code runs a sum and average of a list"
   ]
  },
  {
   "cell_type": "code",
   "execution_count": 2,
   "id": "9ac6ac7c-31e8-4431-9d4d-409e867be5c3",
   "metadata": {},
   "outputs": [
    {
     "name": "stdout",
     "output_type": "stream",
     "text": [
      "1 1 1\n",
      "3 4 2\n",
      "5 9 3\n",
      "7 16 4\n",
      "9 25 5\n",
      "The sum of the list is:  25\n",
      "the average of the list is:  5.0\n"
     ]
    }
   ],
   "source": [
    "summ=0\n",
    "count=0\n",
    "list_1=[1,3,5,7,9]\n",
    "for i in list_1:\n",
    "    summ=summ+i\n",
    "    count=count+1\n",
    "    print(i,summ,count)\n",
    "average=summ/count\n",
    "float(average)\n",
    "print('The sum of the list is: ',summ)\n",
    "print('the average of the list is: ', average)\n",
    "\n"
   ]
  },
  {
   "cell_type": "markdown",
   "id": "62a9af70-dfd1-4a36-8bb1-8f93ac65027f",
   "metadata": {},
   "source": [
    "| Name       | Profession        | Age  |\n",
    "| ------------- |:-------------:| -----:|\n",
    "| Oussa     | engineer | 31 |\n",
    "| Anass     | retailer |   25 |\n",
    "| Leo       | Player   |    $1 |\n",
    "\n",
    "\n",
    "- one \n",
    "- two\n",
    "- three\n",
    "- four\n",
    "- five\n",
    "\n",
    "1. Programming\n",
    "2. Statistics\n",
    "3. Mathematics \n",
    "\n",
    "\n",
    "\n",
    "\n"
   ]
  },
  {
   "cell_type": "code",
   "execution_count": null,
   "id": "457529e8-4602-4c45-b4a0-eb484c09eb6e",
   "metadata": {},
   "outputs": [],
   "source": []
  }
 ],
 "metadata": {
  "kernelspec": {
   "display_name": "Python",
   "language": "python",
   "name": "conda-env-python-py"
  },
  "language_info": {
   "codemirror_mode": {
    "name": "ipython",
    "version": 3
   },
   "file_extension": ".py",
   "mimetype": "text/x-python",
   "name": "python",
   "nbconvert_exporter": "python",
   "pygments_lexer": "ipython3",
   "version": "3.7.12"
  }
 },
 "nbformat": 4,
 "nbformat_minor": 5
}
